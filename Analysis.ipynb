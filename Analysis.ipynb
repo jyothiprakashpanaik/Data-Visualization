{
  "nbformat": 4,
  "nbformat_minor": 0,
  "metadata": {
    "colab": {
      "name": "EDA.ipynb",
      "provenance": []
    },
    "kernelspec": {
      "name": "python3",
      "display_name": "Python 3"
    }
  },
  "cells": [
    {
      "cell_type": "code",
      "metadata": {
        "id": "XZa-eZC6F4qV"
      },
      "source": [
        "import pandas as pd"
      ],
      "execution_count": 1,
      "outputs": []
    },
    {
      "cell_type": "code",
      "metadata": {
        "id": "wruUp6H6F_7d",
        "outputId": "a852e618-b4a0-43c3-b9ba-5e2a3503211e",
        "colab": {
          "base_uri": "https://localhost:8080/",
          "height": 34
        }
      },
      "source": [
        "from google.colab import drive\n",
        "\n",
        "drive.mount('/content/gdrive')"
      ],
      "execution_count": 2,
      "outputs": [
        {
          "output_type": "stream",
          "text": [
            "Mounted at /content/gdrive\n"
          ],
          "name": "stdout"
        }
      ]
    },
    {
      "cell_type": "code",
      "metadata": {
        "id": "oDvrYmYEGiOn"
      },
      "source": [
        "file = \"/content/gdrive/My Drive/EDA/global_terror.csv\""
      ],
      "execution_count": 3,
      "outputs": []
    },
    {
      "cell_type": "code",
      "metadata": {
        "id": "XzmWMPM_HZq6"
      },
      "source": [
        "df = pd.read_csv(file)"
      ],
      "execution_count": 4,
      "outputs": []
    },
    {
      "cell_type": "code",
      "metadata": {
        "id": "ui5Euar1HfP5",
        "outputId": "258500ae-7663-44c7-d0bc-bf3fb7ac3921",
        "colab": {
          "base_uri": "https://localhost:8080/",
          "height": 350
        }
      },
      "source": [
        "df.head()"
      ],
      "execution_count": 5,
      "outputs": [
        {
          "output_type": "execute_result",
          "data": {
            "text/html": [
              "<div>\n",
              "<style scoped>\n",
              "    .dataframe tbody tr th:only-of-type {\n",
              "        vertical-align: middle;\n",
              "    }\n",
              "\n",
              "    .dataframe tbody tr th {\n",
              "        vertical-align: top;\n",
              "    }\n",
              "\n",
              "    .dataframe thead th {\n",
              "        text-align: right;\n",
              "    }\n",
              "</style>\n",
              "<table border=\"1\" class=\"dataframe\">\n",
              "  <thead>\n",
              "    <tr style=\"text-align: right;\">\n",
              "      <th></th>\n",
              "      <th>iyear</th>\n",
              "      <th>imonth</th>\n",
              "      <th>iday</th>\n",
              "      <th>country</th>\n",
              "      <th>country_txt</th>\n",
              "      <th>region</th>\n",
              "      <th>region_txt</th>\n",
              "      <th>provstate</th>\n",
              "      <th>city</th>\n",
              "      <th>latitude</th>\n",
              "      <th>longitude</th>\n",
              "      <th>attacktype1</th>\n",
              "      <th>attacktype1_txt</th>\n",
              "      <th>targtype1</th>\n",
              "      <th>targtype1_txt</th>\n",
              "      <th>natlty1</th>\n",
              "      <th>natlty1_txt</th>\n",
              "      <th>gname</th>\n",
              "      <th>weaptype1</th>\n",
              "      <th>weaptype1_txt</th>\n",
              "      <th>nkill</th>\n",
              "      <th>propextent</th>\n",
              "      <th>propextent_txt</th>\n",
              "    </tr>\n",
              "  </thead>\n",
              "  <tbody>\n",
              "    <tr>\n",
              "      <th>0</th>\n",
              "      <td>1970</td>\n",
              "      <td>7</td>\n",
              "      <td>2</td>\n",
              "      <td>58</td>\n",
              "      <td>Dominican Republic</td>\n",
              "      <td>2</td>\n",
              "      <td>Central America &amp; Caribbean</td>\n",
              "      <td>National</td>\n",
              "      <td>Santo Domingo</td>\n",
              "      <td>18.456792</td>\n",
              "      <td>-69.951164</td>\n",
              "      <td>1</td>\n",
              "      <td>Assassination</td>\n",
              "      <td>14</td>\n",
              "      <td>Private Citizens &amp; Property</td>\n",
              "      <td>58.0</td>\n",
              "      <td>Dominican Republic</td>\n",
              "      <td>MANO-D</td>\n",
              "      <td>13</td>\n",
              "      <td>Unknown</td>\n",
              "      <td>1.0</td>\n",
              "      <td>NaN</td>\n",
              "      <td>NaN</td>\n",
              "    </tr>\n",
              "    <tr>\n",
              "      <th>1</th>\n",
              "      <td>1970</td>\n",
              "      <td>0</td>\n",
              "      <td>0</td>\n",
              "      <td>130</td>\n",
              "      <td>Mexico</td>\n",
              "      <td>1</td>\n",
              "      <td>North America</td>\n",
              "      <td>Federal</td>\n",
              "      <td>Mexico city</td>\n",
              "      <td>19.371887</td>\n",
              "      <td>-99.086624</td>\n",
              "      <td>6</td>\n",
              "      <td>Hostage Taking (Kidnapping)</td>\n",
              "      <td>7</td>\n",
              "      <td>Government (Diplomatic)</td>\n",
              "      <td>21.0</td>\n",
              "      <td>Belgium</td>\n",
              "      <td>23rd of September Communist League</td>\n",
              "      <td>13</td>\n",
              "      <td>Unknown</td>\n",
              "      <td>0.0</td>\n",
              "      <td>NaN</td>\n",
              "      <td>NaN</td>\n",
              "    </tr>\n",
              "    <tr>\n",
              "      <th>2</th>\n",
              "      <td>1970</td>\n",
              "      <td>1</td>\n",
              "      <td>0</td>\n",
              "      <td>160</td>\n",
              "      <td>Philippines</td>\n",
              "      <td>5</td>\n",
              "      <td>Southeast Asia</td>\n",
              "      <td>Tarlac</td>\n",
              "      <td>Unknown</td>\n",
              "      <td>15.478598</td>\n",
              "      <td>120.599741</td>\n",
              "      <td>1</td>\n",
              "      <td>Assassination</td>\n",
              "      <td>10</td>\n",
              "      <td>Journalists &amp; Media</td>\n",
              "      <td>217.0</td>\n",
              "      <td>United States</td>\n",
              "      <td>Unknown</td>\n",
              "      <td>13</td>\n",
              "      <td>Unknown</td>\n",
              "      <td>1.0</td>\n",
              "      <td>NaN</td>\n",
              "      <td>NaN</td>\n",
              "    </tr>\n",
              "    <tr>\n",
              "      <th>3</th>\n",
              "      <td>1970</td>\n",
              "      <td>1</td>\n",
              "      <td>0</td>\n",
              "      <td>78</td>\n",
              "      <td>Greece</td>\n",
              "      <td>8</td>\n",
              "      <td>Western Europe</td>\n",
              "      <td>Attica</td>\n",
              "      <td>Athens</td>\n",
              "      <td>37.997490</td>\n",
              "      <td>23.762728</td>\n",
              "      <td>3</td>\n",
              "      <td>Bombing/Explosion</td>\n",
              "      <td>7</td>\n",
              "      <td>Government (Diplomatic)</td>\n",
              "      <td>217.0</td>\n",
              "      <td>United States</td>\n",
              "      <td>Unknown</td>\n",
              "      <td>6</td>\n",
              "      <td>Explosives</td>\n",
              "      <td>2.0</td>\n",
              "      <td>NaN</td>\n",
              "      <td>NaN</td>\n",
              "    </tr>\n",
              "    <tr>\n",
              "      <th>4</th>\n",
              "      <td>1970</td>\n",
              "      <td>1</td>\n",
              "      <td>0</td>\n",
              "      <td>101</td>\n",
              "      <td>Japan</td>\n",
              "      <td>4</td>\n",
              "      <td>East Asia</td>\n",
              "      <td>Fukouka</td>\n",
              "      <td>Fukouka</td>\n",
              "      <td>33.580412</td>\n",
              "      <td>130.396361</td>\n",
              "      <td>7</td>\n",
              "      <td>Facility/Infrastructure Attack</td>\n",
              "      <td>7</td>\n",
              "      <td>Government (Diplomatic)</td>\n",
              "      <td>217.0</td>\n",
              "      <td>United States</td>\n",
              "      <td>Unknown</td>\n",
              "      <td>8</td>\n",
              "      <td>Incendiary</td>\n",
              "      <td>2.0</td>\n",
              "      <td>NaN</td>\n",
              "      <td>NaN</td>\n",
              "    </tr>\n",
              "  </tbody>\n",
              "</table>\n",
              "</div>"
            ],
            "text/plain": [
              "   iyear  imonth  iday  country  ... weaptype1_txt  nkill propextent propextent_txt\n",
              "0   1970       7     2       58  ...       Unknown    1.0        NaN            NaN\n",
              "1   1970       0     0      130  ...       Unknown    0.0        NaN            NaN\n",
              "2   1970       1     0      160  ...       Unknown    1.0        NaN            NaN\n",
              "3   1970       1     0       78  ...    Explosives    2.0        NaN            NaN\n",
              "4   1970       1     0      101  ...    Incendiary    2.0        NaN            NaN\n",
              "\n",
              "[5 rows x 23 columns]"
            ]
          },
          "metadata": {
            "tags": []
          },
          "execution_count": 5
        }
      ]
    },
    {
      "cell_type": "code",
      "metadata": {
        "id": "9qV-aeq2Hh2i",
        "outputId": "f14a59cd-f5f2-494c-e18f-2d16d4a4c136",
        "colab": {
          "base_uri": "https://localhost:8080/",
          "height": 420
        }
      },
      "source": [
        "df.isna().sum()"
      ],
      "execution_count": 6,
      "outputs": [
        {
          "output_type": "execute_result",
          "data": {
            "text/plain": [
              "iyear                   0\n",
              "imonth                  0\n",
              "iday                    0\n",
              "country                 0\n",
              "country_txt             0\n",
              "region                  0\n",
              "region_txt              0\n",
              "provstate               2\n",
              "city                  426\n",
              "latitude             4580\n",
              "longitude            4581\n",
              "attacktype1             0\n",
              "attacktype1_txt         0\n",
              "targtype1               0\n",
              "targtype1_txt           0\n",
              "natlty1              1722\n",
              "natlty1_txt          1722\n",
              "gname                   0\n",
              "weaptype1               0\n",
              "weaptype1_txt           0\n",
              "nkill                   0\n",
              "propextent         124178\n",
              "propextent_txt     124178\n",
              "dtype: int64"
            ]
          },
          "metadata": {
            "tags": []
          },
          "execution_count": 6
        }
      ]
    },
    {
      "cell_type": "code",
      "metadata": {
        "id": "UJnhMqTwHkRK"
      },
      "source": [
        "df.dropna(inplace=True)"
      ],
      "execution_count": 7,
      "outputs": []
    },
    {
      "cell_type": "code",
      "metadata": {
        "id": "NsWg5sLCHp1T",
        "outputId": "1275f238-850b-40c1-b3a6-124c0bb2e4c5",
        "colab": {
          "base_uri": "https://localhost:8080/",
          "height": 316
        }
      },
      "source": [
        "df.head()"
      ],
      "execution_count": 8,
      "outputs": [
        {
          "output_type": "execute_result",
          "data": {
            "text/html": [
              "<div>\n",
              "<style scoped>\n",
              "    .dataframe tbody tr th:only-of-type {\n",
              "        vertical-align: middle;\n",
              "    }\n",
              "\n",
              "    .dataframe tbody tr th {\n",
              "        vertical-align: top;\n",
              "    }\n",
              "\n",
              "    .dataframe thead th {\n",
              "        text-align: right;\n",
              "    }\n",
              "</style>\n",
              "<table border=\"1\" class=\"dataframe\">\n",
              "  <thead>\n",
              "    <tr style=\"text-align: right;\">\n",
              "      <th></th>\n",
              "      <th>iyear</th>\n",
              "      <th>imonth</th>\n",
              "      <th>iday</th>\n",
              "      <th>country</th>\n",
              "      <th>country_txt</th>\n",
              "      <th>region</th>\n",
              "      <th>region_txt</th>\n",
              "      <th>provstate</th>\n",
              "      <th>city</th>\n",
              "      <th>latitude</th>\n",
              "      <th>longitude</th>\n",
              "      <th>attacktype1</th>\n",
              "      <th>attacktype1_txt</th>\n",
              "      <th>targtype1</th>\n",
              "      <th>targtype1_txt</th>\n",
              "      <th>natlty1</th>\n",
              "      <th>natlty1_txt</th>\n",
              "      <th>gname</th>\n",
              "      <th>weaptype1</th>\n",
              "      <th>weaptype1_txt</th>\n",
              "      <th>nkill</th>\n",
              "      <th>propextent</th>\n",
              "      <th>propextent_txt</th>\n",
              "    </tr>\n",
              "  </thead>\n",
              "  <tbody>\n",
              "    <tr>\n",
              "      <th>5</th>\n",
              "      <td>1970</td>\n",
              "      <td>1</td>\n",
              "      <td>1</td>\n",
              "      <td>217</td>\n",
              "      <td>United States</td>\n",
              "      <td>1</td>\n",
              "      <td>North America</td>\n",
              "      <td>Illinois</td>\n",
              "      <td>Cairo</td>\n",
              "      <td>37.005105</td>\n",
              "      <td>-89.176269</td>\n",
              "      <td>2</td>\n",
              "      <td>Armed Assault</td>\n",
              "      <td>3</td>\n",
              "      <td>Police</td>\n",
              "      <td>217.0</td>\n",
              "      <td>United States</td>\n",
              "      <td>Black Nationalists</td>\n",
              "      <td>5</td>\n",
              "      <td>Firearms</td>\n",
              "      <td>0.0</td>\n",
              "      <td>3.0</td>\n",
              "      <td>Minor (likely &lt; $1 million)</td>\n",
              "    </tr>\n",
              "    <tr>\n",
              "      <th>7</th>\n",
              "      <td>1970</td>\n",
              "      <td>1</td>\n",
              "      <td>2</td>\n",
              "      <td>217</td>\n",
              "      <td>United States</td>\n",
              "      <td>1</td>\n",
              "      <td>North America</td>\n",
              "      <td>California</td>\n",
              "      <td>Oakland</td>\n",
              "      <td>37.791927</td>\n",
              "      <td>-122.225906</td>\n",
              "      <td>3</td>\n",
              "      <td>Bombing/Explosion</td>\n",
              "      <td>21</td>\n",
              "      <td>Utilities</td>\n",
              "      <td>217.0</td>\n",
              "      <td>United States</td>\n",
              "      <td>Unknown</td>\n",
              "      <td>6</td>\n",
              "      <td>Explosives</td>\n",
              "      <td>0.0</td>\n",
              "      <td>3.0</td>\n",
              "      <td>Minor (likely &lt; $1 million)</td>\n",
              "    </tr>\n",
              "    <tr>\n",
              "      <th>8</th>\n",
              "      <td>1970</td>\n",
              "      <td>1</td>\n",
              "      <td>2</td>\n",
              "      <td>217</td>\n",
              "      <td>United States</td>\n",
              "      <td>1</td>\n",
              "      <td>North America</td>\n",
              "      <td>Wisconsin</td>\n",
              "      <td>Madison</td>\n",
              "      <td>43.076592</td>\n",
              "      <td>-89.412488</td>\n",
              "      <td>7</td>\n",
              "      <td>Facility/Infrastructure Attack</td>\n",
              "      <td>4</td>\n",
              "      <td>Military</td>\n",
              "      <td>217.0</td>\n",
              "      <td>United States</td>\n",
              "      <td>New Year's Gang</td>\n",
              "      <td>8</td>\n",
              "      <td>Incendiary</td>\n",
              "      <td>0.0</td>\n",
              "      <td>3.0</td>\n",
              "      <td>Minor (likely &lt; $1 million)</td>\n",
              "    </tr>\n",
              "    <tr>\n",
              "      <th>9</th>\n",
              "      <td>1970</td>\n",
              "      <td>1</td>\n",
              "      <td>3</td>\n",
              "      <td>217</td>\n",
              "      <td>United States</td>\n",
              "      <td>1</td>\n",
              "      <td>North America</td>\n",
              "      <td>Wisconsin</td>\n",
              "      <td>Madison</td>\n",
              "      <td>43.072950</td>\n",
              "      <td>-89.386694</td>\n",
              "      <td>7</td>\n",
              "      <td>Facility/Infrastructure Attack</td>\n",
              "      <td>2</td>\n",
              "      <td>Government (General)</td>\n",
              "      <td>217.0</td>\n",
              "      <td>United States</td>\n",
              "      <td>New Year's Gang</td>\n",
              "      <td>8</td>\n",
              "      <td>Incendiary</td>\n",
              "      <td>0.0</td>\n",
              "      <td>3.0</td>\n",
              "      <td>Minor (likely &lt; $1 million)</td>\n",
              "    </tr>\n",
              "    <tr>\n",
              "      <th>10</th>\n",
              "      <td>1970</td>\n",
              "      <td>1</td>\n",
              "      <td>1</td>\n",
              "      <td>217</td>\n",
              "      <td>United States</td>\n",
              "      <td>1</td>\n",
              "      <td>North America</td>\n",
              "      <td>Wisconsin</td>\n",
              "      <td>Baraboo</td>\n",
              "      <td>43.468500</td>\n",
              "      <td>-89.744299</td>\n",
              "      <td>3</td>\n",
              "      <td>Bombing/Explosion</td>\n",
              "      <td>4</td>\n",
              "      <td>Military</td>\n",
              "      <td>217.0</td>\n",
              "      <td>United States</td>\n",
              "      <td>Weather Underground, Weathermen</td>\n",
              "      <td>6</td>\n",
              "      <td>Explosives</td>\n",
              "      <td>0.0</td>\n",
              "      <td>3.0</td>\n",
              "      <td>Minor (likely &lt; $1 million)</td>\n",
              "    </tr>\n",
              "  </tbody>\n",
              "</table>\n",
              "</div>"
            ],
            "text/plain": [
              "    iyear  imonth  iday  ...  nkill propextent               propextent_txt\n",
              "5    1970       1     1  ...    0.0        3.0  Minor (likely < $1 million)\n",
              "7    1970       1     2  ...    0.0        3.0  Minor (likely < $1 million)\n",
              "8    1970       1     2  ...    0.0        3.0  Minor (likely < $1 million)\n",
              "9    1970       1     3  ...    0.0        3.0  Minor (likely < $1 million)\n",
              "10   1970       1     1  ...    0.0        3.0  Minor (likely < $1 million)\n",
              "\n",
              "[5 rows x 23 columns]"
            ]
          },
          "metadata": {
            "tags": []
          },
          "execution_count": 8
        }
      ]
    },
    {
      "cell_type": "code",
      "metadata": {
        "id": "w23sESPQHvNW",
        "outputId": "67bd7572-b129-4bd9-ab38-a6481a6430a7",
        "colab": {
          "base_uri": "https://localhost:8080/",
          "height": 118
        }
      },
      "source": [
        "df.columns"
      ],
      "execution_count": 9,
      "outputs": [
        {
          "output_type": "execute_result",
          "data": {
            "text/plain": [
              "Index(['iyear', 'imonth', 'iday', 'country', 'country_txt', 'region',\n",
              "       'region_txt', 'provstate', 'city', 'latitude', 'longitude',\n",
              "       'attacktype1', 'attacktype1_txt', 'targtype1', 'targtype1_txt',\n",
              "       'natlty1', 'natlty1_txt', 'gname', 'weaptype1', 'weaptype1_txt',\n",
              "       'nkill', 'propextent', 'propextent_txt'],\n",
              "      dtype='object')"
            ]
          },
          "metadata": {
            "tags": []
          },
          "execution_count": 9
        }
      ]
    },
    {
      "cell_type": "code",
      "metadata": {
        "id": "8c34WgeTJgzK",
        "outputId": "aa3dcf7a-5c6e-483c-d2a8-9da5504ad453",
        "colab": {
          "base_uri": "https://localhost:8080/",
          "height": 34
        }
      },
      "source": [
        "df.region_txt.nunique()"
      ],
      "execution_count": 10,
      "outputs": [
        {
          "output_type": "execute_result",
          "data": {
            "text/plain": [
              "12"
            ]
          },
          "metadata": {
            "tags": []
          },
          "execution_count": 10
        }
      ]
    },
    {
      "cell_type": "code",
      "metadata": {
        "id": "M9A6V_fhJvTm",
        "outputId": "fedd7986-209e-46f1-bc94-d3391ddcb8ed",
        "colab": {
          "base_uri": "https://localhost:8080/",
          "height": 101
        }
      },
      "source": [
        "df.region_txt.unique()"
      ],
      "execution_count": 11,
      "outputs": [
        {
          "output_type": "execute_result",
          "data": {
            "text/plain": [
              "array(['North America', 'South America', 'Southeast Asia',\n",
              "       'Eastern Europe', 'Western Europe', 'Middle East & North Africa',\n",
              "       'Central America & Caribbean', 'East Asia',\n",
              "       'Australasia & Oceania', 'Sub-Saharan Africa', 'South Asia',\n",
              "       'Central Asia'], dtype=object)"
            ]
          },
          "metadata": {
            "tags": []
          },
          "execution_count": 11
        }
      ]
    },
    {
      "cell_type": "code",
      "metadata": {
        "id": "EESP7xLoHxsF",
        "outputId": "063c3d13-7895-49fe-f27b-e3a1ed570e6f",
        "colab": {
          "base_uri": "https://localhost:8080/",
          "height": 34
        }
      },
      "source": [
        "df.country_txt.nunique()"
      ],
      "execution_count": 12,
      "outputs": [
        {
          "output_type": "execute_result",
          "data": {
            "text/plain": [
              "184"
            ]
          },
          "metadata": {
            "tags": []
          },
          "execution_count": 12
        }
      ]
    },
    {
      "cell_type": "code",
      "metadata": {
        "id": "ezSJTQ6LH4E3",
        "outputId": "cfabb6b7-64b2-45a6-f57e-395ead6f3129",
        "colab": {
          "base_uri": "https://localhost:8080/",
          "height": 655
        }
      },
      "source": [
        "df.country_txt.unique()"
      ],
      "execution_count": 13,
      "outputs": [
        {
          "output_type": "execute_result",
          "data": {
            "text/plain": [
              "array(['United States', 'Uruguay', 'Philippines', 'East Germany (GDR)',\n",
              "       'West Germany (FRG)', 'Switzerland', 'Jordan', 'Egypt',\n",
              "       'Argentina', 'Greece', 'Iran', 'United Kingdom', 'Turkey', 'Spain',\n",
              "       'Dominican Republic', 'Netherlands', 'Italy', 'Venezuela',\n",
              "       'South Yemen', 'Israel', 'Poland', 'Brazil', 'Taiwan', 'Australia',\n",
              "       'Panama', 'Ireland', 'Sweden', 'France', 'South Vietnam',\n",
              "       'Algeria', 'El Salvador', 'Lebanon', 'Thailand', 'Belgium',\n",
              "       'Cyprus', 'Peru', 'Chile', 'Honduras', 'Yugoslavia', 'Singapore',\n",
              "       'Mexico', 'Kuwait', 'Ethiopia', 'North Yemen', 'Syria', 'Pakistan',\n",
              "       'Nicaragua', 'Kenya', 'Colombia', 'Japan', 'Guatemala', 'Malaysia',\n",
              "       'Portugal', 'Austria', 'Bahamas', 'Costa Rica',\n",
              "       'West Bank and Gaza Strip', 'Bolivia', 'Barbados', 'Ecuador',\n",
              "       'Myanmar', 'Iraq', 'Angola', 'Mauritania', 'South Africa',\n",
              "       'Rhodesia', 'Soviet Union', 'Guyana', 'Namibia', 'Morocco',\n",
              "       'Mozambique', 'Jamaica', 'India', 'Uganda', 'Sri Lanka',\n",
              "       'Bangladesh', 'Zambia', 'Afghanistan', 'Nigeria', 'Senegal',\n",
              "       'Zimbabwe', 'Grenada', 'Belize', 'Libya', 'Denmark', 'Bahrain',\n",
              "       'Canada', 'Guadeloupe', 'Somalia', 'Martinique', 'Hong Kong',\n",
              "       'United Arab Emirates', 'Albania', 'Sudan',\n",
              "       'Central African Republic', 'Lesotho', 'Trinidad and Tobago',\n",
              "       'Dominica', 'Suriname', 'French Guiana', 'New Zealand', 'Botswana',\n",
              "       'Luxembourg', 'Nepal', 'Paraguay', 'New Caledonia', 'Ghana',\n",
              "       'Fiji', 'Tunisia', 'Haiti', 'South Korea', 'Maldives', 'Cambodia',\n",
              "       'Papua New Guinea', 'Indonesia', 'Niger', 'Germany', 'Swaziland',\n",
              "       'Azerbaijan', 'Bulgaria', 'China', 'Guinea', 'Moldova', 'Rwanda',\n",
              "       'Togo', 'Georgia', 'Bosnia-Herzegovina', 'Russia', 'Sierra Leone',\n",
              "       'Macedonia', 'Ukraine', 'Chad', 'Slovak Republic', 'Hungary',\n",
              "       'Tajikistan', 'Latvia', 'Cameroon', 'Macau', 'Tanzania', 'Burundi',\n",
              "       'Democratic Republic of the Congo', 'Yemen', 'Uzbekistan',\n",
              "       'Belarus', 'Estonia', 'Kosovo', 'Republic of the Congo',\n",
              "       'Kyrgyzstan', 'Armenia', 'East Timor', 'Laos', 'Croatia', 'Gambia',\n",
              "       'Solomon Islands', 'Ivory Coast', 'Saudi Arabia', 'Slovenia',\n",
              "       'Liberia', 'St. Lucia', 'Montenegro', 'Czech Republic',\n",
              "       'Madagascar', 'Malawi', 'International', 'Serbia-Montenegro',\n",
              "       'Guinea-Bissau', 'Qatar', 'Norway', 'Mali', 'Eritrea', 'Finland',\n",
              "       'Serbia', 'Bhutan', 'Equatorial Guinea', 'Kazakhstan',\n",
              "       'South Sudan', 'Iceland', 'Djibouti', 'Malta', 'Burkina Faso',\n",
              "       'Vietnam', 'Gabon', 'Comoros', 'Lithuania'], dtype=object)"
            ]
          },
          "metadata": {
            "tags": []
          },
          "execution_count": 13
        }
      ]
    },
    {
      "cell_type": "code",
      "metadata": {
        "id": "DqkL2ksnIQZO",
        "outputId": "57eb5108-2f8b-4e0e-de5f-3c9ab2f18120",
        "colab": {
          "base_uri": "https://localhost:8080/",
          "height": 34
        }
      },
      "source": [
        "df.region_txt.nunique()"
      ],
      "execution_count": 14,
      "outputs": [
        {
          "output_type": "execute_result",
          "data": {
            "text/plain": [
              "12"
            ]
          },
          "metadata": {
            "tags": []
          },
          "execution_count": 14
        }
      ]
    },
    {
      "cell_type": "code",
      "metadata": {
        "id": "2PZSSNS_Ifx5",
        "outputId": "f2c6e94f-be12-485d-a0b0-c649db087e76",
        "colab": {
          "base_uri": "https://localhost:8080/",
          "height": 655
        }
      },
      "source": [
        "df.country_txt.unique()"
      ],
      "execution_count": 15,
      "outputs": [
        {
          "output_type": "execute_result",
          "data": {
            "text/plain": [
              "array(['United States', 'Uruguay', 'Philippines', 'East Germany (GDR)',\n",
              "       'West Germany (FRG)', 'Switzerland', 'Jordan', 'Egypt',\n",
              "       'Argentina', 'Greece', 'Iran', 'United Kingdom', 'Turkey', 'Spain',\n",
              "       'Dominican Republic', 'Netherlands', 'Italy', 'Venezuela',\n",
              "       'South Yemen', 'Israel', 'Poland', 'Brazil', 'Taiwan', 'Australia',\n",
              "       'Panama', 'Ireland', 'Sweden', 'France', 'South Vietnam',\n",
              "       'Algeria', 'El Salvador', 'Lebanon', 'Thailand', 'Belgium',\n",
              "       'Cyprus', 'Peru', 'Chile', 'Honduras', 'Yugoslavia', 'Singapore',\n",
              "       'Mexico', 'Kuwait', 'Ethiopia', 'North Yemen', 'Syria', 'Pakistan',\n",
              "       'Nicaragua', 'Kenya', 'Colombia', 'Japan', 'Guatemala', 'Malaysia',\n",
              "       'Portugal', 'Austria', 'Bahamas', 'Costa Rica',\n",
              "       'West Bank and Gaza Strip', 'Bolivia', 'Barbados', 'Ecuador',\n",
              "       'Myanmar', 'Iraq', 'Angola', 'Mauritania', 'South Africa',\n",
              "       'Rhodesia', 'Soviet Union', 'Guyana', 'Namibia', 'Morocco',\n",
              "       'Mozambique', 'Jamaica', 'India', 'Uganda', 'Sri Lanka',\n",
              "       'Bangladesh', 'Zambia', 'Afghanistan', 'Nigeria', 'Senegal',\n",
              "       'Zimbabwe', 'Grenada', 'Belize', 'Libya', 'Denmark', 'Bahrain',\n",
              "       'Canada', 'Guadeloupe', 'Somalia', 'Martinique', 'Hong Kong',\n",
              "       'United Arab Emirates', 'Albania', 'Sudan',\n",
              "       'Central African Republic', 'Lesotho', 'Trinidad and Tobago',\n",
              "       'Dominica', 'Suriname', 'French Guiana', 'New Zealand', 'Botswana',\n",
              "       'Luxembourg', 'Nepal', 'Paraguay', 'New Caledonia', 'Ghana',\n",
              "       'Fiji', 'Tunisia', 'Haiti', 'South Korea', 'Maldives', 'Cambodia',\n",
              "       'Papua New Guinea', 'Indonesia', 'Niger', 'Germany', 'Swaziland',\n",
              "       'Azerbaijan', 'Bulgaria', 'China', 'Guinea', 'Moldova', 'Rwanda',\n",
              "       'Togo', 'Georgia', 'Bosnia-Herzegovina', 'Russia', 'Sierra Leone',\n",
              "       'Macedonia', 'Ukraine', 'Chad', 'Slovak Republic', 'Hungary',\n",
              "       'Tajikistan', 'Latvia', 'Cameroon', 'Macau', 'Tanzania', 'Burundi',\n",
              "       'Democratic Republic of the Congo', 'Yemen', 'Uzbekistan',\n",
              "       'Belarus', 'Estonia', 'Kosovo', 'Republic of the Congo',\n",
              "       'Kyrgyzstan', 'Armenia', 'East Timor', 'Laos', 'Croatia', 'Gambia',\n",
              "       'Solomon Islands', 'Ivory Coast', 'Saudi Arabia', 'Slovenia',\n",
              "       'Liberia', 'St. Lucia', 'Montenegro', 'Czech Republic',\n",
              "       'Madagascar', 'Malawi', 'International', 'Serbia-Montenegro',\n",
              "       'Guinea-Bissau', 'Qatar', 'Norway', 'Mali', 'Eritrea', 'Finland',\n",
              "       'Serbia', 'Bhutan', 'Equatorial Guinea', 'Kazakhstan',\n",
              "       'South Sudan', 'Iceland', 'Djibouti', 'Malta', 'Burkina Faso',\n",
              "       'Vietnam', 'Gabon', 'Comoros', 'Lithuania'], dtype=object)"
            ]
          },
          "metadata": {
            "tags": []
          },
          "execution_count": 15
        }
      ]
    },
    {
      "cell_type": "code",
      "metadata": {
        "id": "ZhcQrgrvJKZl",
        "outputId": "809bc994-505e-49d5-a6cb-45bf023a4c36",
        "colab": {
          "base_uri": "https://localhost:8080/",
          "height": 34
        }
      },
      "source": [
        "df.city.nunique()"
      ],
      "execution_count": 16,
      "outputs": [
        {
          "output_type": "execute_result",
          "data": {
            "text/plain": [
              "17895"
            ]
          },
          "metadata": {
            "tags": []
          },
          "execution_count": 16
        }
      ]
    },
    {
      "cell_type": "code",
      "metadata": {
        "id": "lxPzsQk2Iiub",
        "outputId": "c1ca0bf2-b545-4008-a757-1bab7c94f537",
        "colab": {
          "base_uri": "https://localhost:8080/",
          "height": 50
        }
      },
      "source": [
        "df.city.unique()\n"
      ],
      "execution_count": 17,
      "outputs": [
        {
          "output_type": "execute_result",
          "data": {
            "text/plain": [
              "array(['Cairo', 'Oakland', 'Madison', ..., 'Sharana district',\n",
              "       'Niambourgou', 'Sorkhi Sang'], dtype=object)"
            ]
          },
          "metadata": {
            "tags": []
          },
          "execution_count": 17
        }
      ]
    },
    {
      "cell_type": "code",
      "metadata": {
        "id": "GJNffl_uJCfI",
        "outputId": "8a8e78e0-e581-48d2-8280-05b8ef5a079d",
        "colab": {
          "base_uri": "https://localhost:8080/",
          "height": 34
        }
      },
      "source": [
        "df.attacktype1_txt.nunique()"
      ],
      "execution_count": 18,
      "outputs": [
        {
          "output_type": "execute_result",
          "data": {
            "text/plain": [
              "9"
            ]
          },
          "metadata": {
            "tags": []
          },
          "execution_count": 18
        }
      ]
    },
    {
      "cell_type": "code",
      "metadata": {
        "id": "ojHkYlF9Iy45",
        "outputId": "f8a9582f-1240-4def-be88-1c5d66e4caa9",
        "colab": {
          "base_uri": "https://localhost:8080/",
          "height": 101
        }
      },
      "source": [
        "df.attacktype1_txt.unique()"
      ],
      "execution_count": 19,
      "outputs": [
        {
          "output_type": "execute_result",
          "data": {
            "text/plain": [
              "array(['Armed Assault', 'Bombing/Explosion',\n",
              "       'Facility/Infrastructure Attack', 'Assassination',\n",
              "       'Hostage Taking (Barricade Incident)', 'Unknown',\n",
              "       'Hostage Taking (Kidnapping)', 'Hijacking', 'Unarmed Assault'],\n",
              "      dtype=object)"
            ]
          },
          "metadata": {
            "tags": []
          },
          "execution_count": 19
        }
      ]
    },
    {
      "cell_type": "code",
      "metadata": {
        "id": "-wP-4ZEKJPN1"
      },
      "source": [
        "# Remove Some Error data\n",
        "region_list = df.region_txt.unique().tolist()"
      ],
      "execution_count": 20,
      "outputs": []
    },
    {
      "cell_type": "code",
      "metadata": {
        "id": "338eHOWCKWDS"
      },
      "source": [
        "region_dict = {}\n",
        "for i in region_list:\n",
        "    region_dict[i] = df[df['region_txt'] == i].country_txt.unique().tolist()"
      ],
      "execution_count": 21,
      "outputs": []
    },
    {
      "cell_type": "code",
      "metadata": {
        "id": "8gkQ3J3_MMKo",
        "outputId": "70416dd2-1f4e-4205-c752-3d1441dd9cd3",
        "colab": {
          "base_uri": "https://localhost:8080/",
          "height": 70
        }
      },
      "source": [
        "print(region_dict)\n",
        "print(len(region_dict))"
      ],
      "execution_count": 22,
      "outputs": [
        {
          "output_type": "stream",
          "text": [
            "{'North America': ['United States', 'Mexico', 'Canada'], 'South America': ['Uruguay', 'Argentina', 'Venezuela', 'Brazil', 'Peru', 'Chile', 'Colombia', 'Bolivia', 'Ecuador', 'Guyana', 'Suriname', 'French Guiana', 'Paraguay'], 'Southeast Asia': ['Philippines', 'South Vietnam', 'Thailand', 'Singapore', 'Malaysia', 'Myanmar', 'Cambodia', 'Indonesia', 'East Timor', 'Laos', 'Vietnam'], 'Eastern Europe': ['East Germany (GDR)', 'Poland', 'Yugoslavia', 'Soviet Union', 'Albania', 'Bulgaria', 'Moldova', 'Bosnia-Herzegovina', 'Russia', 'Macedonia', 'Ukraine', 'Slovak Republic', 'Hungary', 'Latvia', 'Belarus', 'Estonia', 'Kosovo', 'Croatia', 'Slovenia', 'Montenegro', 'Czech Republic', 'Serbia-Montenegro', 'Serbia', 'Lithuania'], 'Western Europe': ['West Germany (FRG)', 'Switzerland', 'Greece', 'United Kingdom', 'Spain', 'Netherlands', 'Italy', 'Ireland', 'Sweden', 'France', 'Belgium', 'Cyprus', 'Portugal', 'Austria', 'Denmark', 'Luxembourg', 'Germany', 'Norway', 'Finland', 'Iceland', 'Malta'], 'Middle East & North Africa': ['Jordan', 'Egypt', 'Iran', 'Turkey', 'South Yemen', 'Israel', 'Algeria', 'Lebanon', 'Kuwait', 'North Yemen', 'Syria', 'West Bank and Gaza Strip', 'Iraq', 'Morocco', 'Libya', 'Bahrain', 'United Arab Emirates', 'Tunisia', 'Yemen', 'Saudi Arabia', 'International', 'Qatar'], 'Central America & Caribbean': ['Dominican Republic', 'Panama', 'El Salvador', 'Honduras', 'Nicaragua', 'Guatemala', 'Bahamas', 'Costa Rica', 'Barbados', 'Jamaica', 'Grenada', 'Belize', 'Guadeloupe', 'Martinique', 'Trinidad and Tobago', 'Dominica', 'Haiti', 'St. Lucia'], 'East Asia': ['Taiwan', 'Japan', 'Hong Kong', 'South Korea', 'China', 'Macau'], 'Australasia & Oceania': ['Australia', 'New Zealand', 'New Caledonia', 'Fiji', 'Papua New Guinea', 'Solomon Islands'], 'Sub-Saharan Africa': ['Ethiopia', 'Kenya', 'Angola', 'Mauritania', 'South Africa', 'Rhodesia', 'Namibia', 'Mozambique', 'Uganda', 'Zambia', 'Nigeria', 'Senegal', 'Zimbabwe', 'Somalia', 'Sudan', 'Central African Republic', 'Lesotho', 'Botswana', 'Ghana', 'Niger', 'Swaziland', 'Guinea', 'Rwanda', 'Togo', 'Sierra Leone', 'Chad', 'Cameroon', 'Tanzania', 'Burundi', 'Democratic Republic of the Congo', 'Republic of the Congo', 'Gambia', 'Ivory Coast', 'Liberia', 'Madagascar', 'Malawi', 'Guinea-Bissau', 'Mali', 'Eritrea', 'Equatorial Guinea', 'South Sudan', 'Djibouti', 'Burkina Faso', 'Gabon', 'Comoros'], 'South Asia': ['Pakistan', 'India', 'Sri Lanka', 'Bangladesh', 'Afghanistan', 'Nepal', 'Maldives', 'Bhutan'], 'Central Asia': ['Azerbaijan', 'Georgia', 'Tajikistan', 'Uzbekistan', 'Kyrgyzstan', 'Armenia', 'Kazakhstan']}\n",
            "12\n"
          ],
          "name": "stdout"
        }
      ]
    },
    {
      "cell_type": "code",
      "metadata": {
        "id": "eQOv7QyhMPFX",
        "outputId": "61ee9ec2-818c-49ae-ecdd-49010c497114",
        "colab": {
          "base_uri": "https://localhost:8080/",
          "height": 643
        }
      },
      "source": [
        "import matplotlib.pyplot as plt\n",
        "import seaborn as sns\n",
        "fig_dims = (25, 10)\n",
        "fig, ax = plt.subplots(figsize=fig_dims)\n",
        "ax = sns.countplot(x=\"iyear\", data=df)"
      ],
      "execution_count": 23,
      "outputs": [
        {
          "output_type": "stream",
          "text": [
            "/usr/local/lib/python3.6/dist-packages/statsmodels/tools/_testing.py:19: FutureWarning: pandas.util.testing is deprecated. Use the functions in the public API at pandas.testing instead.\n",
            "  import pandas.util.testing as tm\n"
          ],
          "name": "stderr"
        },
        {
          "output_type": "display_data",
          "data": {
            "image/png": "[encoded data removed]",
            "text/plain": [
              "<Figure size 1800x720 with 1 Axes>"
            ]
          },
          "metadata": {
            "tags": [],
            "needs_background": "light"
          }
        }
      ]
    },
    {
      "cell_type": "code",
      "metadata": {
        "id": "TKfHD1F2M6Dn"
      },
      "source": [
        "gk = df.groupby(['country_txt', 'attacktype1_txt'])"
      ],
      "execution_count": 33,
      "outputs": []
    },
    {
      "cell_type": "code",
      "metadata": {
        "id": "YYnFeISo0Zss",
        "outputId": "5f9186cb-d923-4248-9bf0-c21c6e9af808",
        "colab": {
          "base_uri": "https://localhost:8080/",
          "height": 674
        }
      },
      "source": [
        "gk.head()"
      ],
      "execution_count": 34,
      "outputs": [
        {
          "output_type": "execute_result",
          "data": {
            "text/html": [
              "<div>\n",
              "<style scoped>\n",
              "    .dataframe tbody tr th:only-of-type {\n",
              "        vertical-align: middle;\n",
              "    }\n",
              "\n",
              "    .dataframe tbody tr th {\n",
              "        vertical-align: top;\n",
              "    }\n",
              "\n",
              "    .dataframe thead th {\n",
              "        text-align: right;\n",
              "    }\n",
              "</style>\n",
              "<table border=\"1\" class=\"dataframe\">\n",
              "  <thead>\n",
              "    <tr style=\"text-align: right;\">\n",
              "      <th></th>\n",
              "      <th>iyear</th>\n",
              "      <th>imonth</th>\n",
              "      <th>iday</th>\n",
              "      <th>country</th>\n",
              "      <th>country_txt</th>\n",
              "      <th>region</th>\n",
              "      <th>region_txt</th>\n",
              "      <th>provstate</th>\n",
              "      <th>city</th>\n",
              "      <th>latitude</th>\n",
              "      <th>longitude</th>\n",
              "      <th>attacktype1</th>\n",
              "      <th>attacktype1_txt</th>\n",
              "      <th>targtype1</th>\n",
              "      <th>targtype1_txt</th>\n",
              "      <th>natlty1</th>\n",
              "      <th>natlty1_txt</th>\n",
              "      <th>gname</th>\n",
              "      <th>weaptype1</th>\n",
              "      <th>weaptype1_txt</th>\n",
              "      <th>nkill</th>\n",
              "      <th>propextent</th>\n",
              "      <th>propextent_txt</th>\n",
              "    </tr>\n",
              "  </thead>\n",
              "  <tbody>\n",
              "    <tr>\n",
              "      <th>5</th>\n",
              "      <td>1970</td>\n",
              "      <td>1</td>\n",
              "      <td>1</td>\n",
              "      <td>217</td>\n",
              "      <td>United States</td>\n",
              "      <td>1</td>\n",
              "      <td>North America</td>\n",
              "      <td>Illinois</td>\n",
              "      <td>Cairo</td>\n",
              "      <td>37.005105</td>\n",
              "      <td>-89.176269</td>\n",
              "      <td>2</td>\n",
              "      <td>Armed Assault</td>\n",
              "      <td>3</td>\n",
              "      <td>Police</td>\n",
              "      <td>217.0</td>\n",
              "      <td>United States</td>\n",
              "      <td>Black Nationalists</td>\n",
              "      <td>5</td>\n",
              "      <td>Firearms</td>\n",
              "      <td>0.0</td>\n",
              "      <td>3.0</td>\n",
              "      <td>Minor (likely &lt; $1 million)</td>\n",
              "    </tr>\n",
              "    <tr>\n",
              "      <th>7</th>\n",
              "      <td>1970</td>\n",
              "      <td>1</td>\n",
              "      <td>2</td>\n",
              "      <td>217</td>\n",
              "      <td>United States</td>\n",
              "      <td>1</td>\n",
              "      <td>North America</td>\n",
              "      <td>California</td>\n",
              "      <td>Oakland</td>\n",
              "      <td>37.791927</td>\n",
              "      <td>-122.225906</td>\n",
              "      <td>3</td>\n",
              "      <td>Bombing/Explosion</td>\n",
              "      <td>21</td>\n",
              "      <td>Utilities</td>\n",
              "      <td>217.0</td>\n",
              "      <td>United States</td>\n",
              "      <td>Unknown</td>\n",
              "      <td>6</td>\n",
              "      <td>Explosives</td>\n",
              "      <td>0.0</td>\n",
              "      <td>3.0</td>\n",
              "      <td>Minor (likely &lt; $1 million)</td>\n",
              "    </tr>\n",
              "    <tr>\n",
              "      <th>8</th>\n",
              "      <td>1970</td>\n",
              "      <td>1</td>\n",
              "      <td>2</td>\n",
              "      <td>217</td>\n",
              "      <td>United States</td>\n",
              "      <td>1</td>\n",
              "      <td>North America</td>\n",
              "      <td>Wisconsin</td>\n",
              "      <td>Madison</td>\n",
              "      <td>43.076592</td>\n",
              "      <td>-89.412488</td>\n",
              "      <td>7</td>\n",
              "      <td>Facility/Infrastructure Attack</td>\n",
              "      <td>4</td>\n",
              "      <td>Military</td>\n",
              "      <td>217.0</td>\n",
              "      <td>United States</td>\n",
              "      <td>New Year's Gang</td>\n",
              "      <td>8</td>\n",
              "      <td>Incendiary</td>\n",
              "      <td>0.0</td>\n",
              "      <td>3.0</td>\n",
              "      <td>Minor (likely &lt; $1 million)</td>\n",
              "    </tr>\n",
              "    <tr>\n",
              "      <th>9</th>\n",
              "      <td>1970</td>\n",
              "      <td>1</td>\n",
              "      <td>3</td>\n",
              "      <td>217</td>\n",
              "      <td>United States</td>\n",
              "      <td>1</td>\n",
              "      <td>North America</td>\n",
              "      <td>Wisconsin</td>\n",
              "      <td>Madison</td>\n",
              "      <td>43.072950</td>\n",
              "      <td>-89.386694</td>\n",
              "      <td>7</td>\n",
              "      <td>Facility/Infrastructure Attack</td>\n",
              "      <td>2</td>\n",
              "      <td>Government (General)</td>\n",
              "      <td>217.0</td>\n",
              "      <td>United States</td>\n",
              "      <td>New Year's Gang</td>\n",
              "      <td>8</td>\n",
              "      <td>Incendiary</td>\n",
              "      <td>0.0</td>\n",
              "      <td>3.0</td>\n",
              "      <td>Minor (likely &lt; $1 million)</td>\n",
              "    </tr>\n",
              "    <tr>\n",
              "      <th>10</th>\n",
              "      <td>1970</td>\n",
              "      <td>1</td>\n",
              "      <td>1</td>\n",
              "      <td>217</td>\n",
              "      <td>United States</td>\n",
              "      <td>1</td>\n",
              "      <td>North America</td>\n",
              "      <td>Wisconsin</td>\n",
              "      <td>Baraboo</td>\n",
              "      <td>43.468500</td>\n",
              "      <td>-89.744299</td>\n",
              "      <td>3</td>\n",
              "      <td>Bombing/Explosion</td>\n",
              "      <td>4</td>\n",
              "      <td>Military</td>\n",
              "      <td>217.0</td>\n",
              "      <td>United States</td>\n",
              "      <td>Weather Underground, Weathermen</td>\n",
              "      <td>6</td>\n",
              "      <td>Explosives</td>\n",
              "      <td>0.0</td>\n",
              "      <td>3.0</td>\n",
              "      <td>Minor (likely &lt; $1 million)</td>\n",
              "    </tr>\n",
              "    <tr>\n",
              "      <th>...</th>\n",
              "      <td>...</td>\n",
              "      <td>...</td>\n",
              "      <td>...</td>\n",
              "      <td>...</td>\n",
              "      <td>...</td>\n",
              "      <td>...</td>\n",
              "      <td>...</td>\n",
              "      <td>...</td>\n",
              "      <td>...</td>\n",
              "      <td>...</td>\n",
              "      <td>...</td>\n",
              "      <td>...</td>\n",
              "      <td>...</td>\n",
              "      <td>...</td>\n",
              "      <td>...</td>\n",
              "      <td>...</td>\n",
              "      <td>...</td>\n",
              "      <td>...</td>\n",
              "      <td>...</td>\n",
              "      <td>...</td>\n",
              "      <td>...</td>\n",
              "      <td>...</td>\n",
              "      <td>...</td>\n",
              "    </tr>\n",
              "    <tr>\n",
              "      <th>190098</th>\n",
              "      <td>2018</td>\n",
              "      <td>11</td>\n",
              "      <td>1</td>\n",
              "      <td>195</td>\n",
              "      <td>Sudan</td>\n",
              "      <td>11</td>\n",
              "      <td>Sub-Saharan Africa</td>\n",
              "      <td>South Darfur</td>\n",
              "      <td>Kombo Aliba</td>\n",
              "      <td>12.560911</td>\n",
              "      <td>24.254639</td>\n",
              "      <td>5</td>\n",
              "      <td>Hostage Taking (Barricade Incident)</td>\n",
              "      <td>14</td>\n",
              "      <td>Private Citizens &amp; Property</td>\n",
              "      <td>195.0</td>\n",
              "      <td>Sudan</td>\n",
              "      <td>Unknown</td>\n",
              "      <td>9</td>\n",
              "      <td>Melee</td>\n",
              "      <td>0.0</td>\n",
              "      <td>3.0</td>\n",
              "      <td>Minor (likely &lt; $1 million)</td>\n",
              "    </tr>\n",
              "    <tr>\n",
              "      <th>190569</th>\n",
              "      <td>2018</td>\n",
              "      <td>11</td>\n",
              "      <td>19</td>\n",
              "      <td>158</td>\n",
              "      <td>Paraguay</td>\n",
              "      <td>3</td>\n",
              "      <td>South America</td>\n",
              "      <td>San Pedro</td>\n",
              "      <td>Santa Rosa del Aguaray</td>\n",
              "      <td>-23.800845</td>\n",
              "      <td>-56.502802</td>\n",
              "      <td>6</td>\n",
              "      <td>Hostage Taking (Kidnapping)</td>\n",
              "      <td>14</td>\n",
              "      <td>Private Citizens &amp; Property</td>\n",
              "      <td>30.0</td>\n",
              "      <td>Brazil</td>\n",
              "      <td>Paraguayan People's Army (EPP)</td>\n",
              "      <td>5</td>\n",
              "      <td>Firearms</td>\n",
              "      <td>1.0</td>\n",
              "      <td>3.0</td>\n",
              "      <td>Minor (likely &lt; $1 million)</td>\n",
              "    </tr>\n",
              "    <tr>\n",
              "      <th>190604</th>\n",
              "      <td>2018</td>\n",
              "      <td>11</td>\n",
              "      <td>22</td>\n",
              "      <td>146</td>\n",
              "      <td>Niger</td>\n",
              "      <td>11</td>\n",
              "      <td>Sub-Saharan Africa</td>\n",
              "      <td>Diffa</td>\n",
              "      <td>Toumour</td>\n",
              "      <td>13.667230</td>\n",
              "      <td>13.119550</td>\n",
              "      <td>6</td>\n",
              "      <td>Hostage Taking (Kidnapping)</td>\n",
              "      <td>9</td>\n",
              "      <td>Food or Water Supply</td>\n",
              "      <td>69.0</td>\n",
              "      <td>France</td>\n",
              "      <td>Boko Haram</td>\n",
              "      <td>5</td>\n",
              "      <td>Firearms</td>\n",
              "      <td>8.0</td>\n",
              "      <td>3.0</td>\n",
              "      <td>Minor (likely &lt; $1 million)</td>\n",
              "    </tr>\n",
              "    <tr>\n",
              "      <th>191053</th>\n",
              "      <td>2018</td>\n",
              "      <td>12</td>\n",
              "      <td>12</td>\n",
              "      <td>1001</td>\n",
              "      <td>Serbia</td>\n",
              "      <td>9</td>\n",
              "      <td>Eastern Europe</td>\n",
              "      <td>Belgrade</td>\n",
              "      <td>Belgrade</td>\n",
              "      <td>44.674128</td>\n",
              "      <td>20.590071</td>\n",
              "      <td>1</td>\n",
              "      <td>Assassination</td>\n",
              "      <td>10</td>\n",
              "      <td>Journalists &amp; Media</td>\n",
              "      <td>175.0</td>\n",
              "      <td>Serbia-Montenegro</td>\n",
              "      <td>Unknown</td>\n",
              "      <td>5</td>\n",
              "      <td>Firearms</td>\n",
              "      <td>0.0</td>\n",
              "      <td>3.0</td>\n",
              "      <td>Minor (likely &lt; $1 million)</td>\n",
              "    </tr>\n",
              "    <tr>\n",
              "      <th>191101</th>\n",
              "      <td>2018</td>\n",
              "      <td>12</td>\n",
              "      <td>15</td>\n",
              "      <td>168</td>\n",
              "      <td>Rwanda</td>\n",
              "      <td>11</td>\n",
              "      <td>Sub-Saharan Africa</td>\n",
              "      <td>Southern</td>\n",
              "      <td>Nyamagabe district</td>\n",
              "      <td>-2.529448</td>\n",
              "      <td>29.564257</td>\n",
              "      <td>6</td>\n",
              "      <td>Hostage Taking (Kidnapping)</td>\n",
              "      <td>14</td>\n",
              "      <td>Private Citizens &amp; Property</td>\n",
              "      <td>168.0</td>\n",
              "      <td>Rwanda</td>\n",
              "      <td>Unknown</td>\n",
              "      <td>5</td>\n",
              "      <td>Firearms</td>\n",
              "      <td>4.0</td>\n",
              "      <td>3.0</td>\n",
              "      <td>Minor (likely &lt; $1 million)</td>\n",
              "    </tr>\n",
              "  </tbody>\n",
              "</table>\n",
              "<p>3034 rows × 23 columns</p>\n",
              "</div>"
            ],
            "text/plain": [
              "        iyear  imonth  iday  ...  nkill propextent               propextent_txt\n",
              "5        1970       1     1  ...    0.0        3.0  Minor (likely < $1 million)\n",
              "7        1970       1     2  ...    0.0        3.0  Minor (likely < $1 million)\n",
              "8        1970       1     2  ...    0.0        3.0  Minor (likely < $1 million)\n",
              "9        1970       1     3  ...    0.0        3.0  Minor (likely < $1 million)\n",
              "10       1970       1     1  ...    0.0        3.0  Minor (likely < $1 million)\n",
              "...       ...     ...   ...  ...    ...        ...                          ...\n",
              "190098   2018      11     1  ...    0.0        3.0  Minor (likely < $1 million)\n",
              "190569   2018      11    19  ...    1.0        3.0  Minor (likely < $1 million)\n",
              "190604   2018      11    22  ...    8.0        3.0  Minor (likely < $1 million)\n",
              "191053   2018      12    12  ...    0.0        3.0  Minor (likely < $1 million)\n",
              "191101   2018      12    15  ...    4.0        3.0  Minor (likely < $1 million)\n",
              "\n",
              "[3034 rows x 23 columns]"
            ]
          },
          "metadata": {
            "tags": []
          },
          "execution_count": 34
        }
      ]
    },
    {
      "cell_type": "code",
      "metadata": {
        "id": "_xJBLnE5NMgH",
        "outputId": "3f3045d8-cdb7-4504-8da9-189949564271",
        "colab": {
          "base_uri": "https://localhost:8080/",
          "height": 787
        }
      },
      "source": [
        "gk.first() "
      ],
      "execution_count": 36,
      "outputs": [
        {
          "output_type": "execute_result",
          "data": {
            "text/html": [
              "<div>\n",
              "<style scoped>\n",
              "    .dataframe tbody tr th:only-of-type {\n",
              "        vertical-align: middle;\n",
              "    }\n",
              "\n",
              "    .dataframe tbody tr th {\n",
              "        vertical-align: top;\n",
              "    }\n",
              "\n",
              "    .dataframe thead th {\n",
              "        text-align: right;\n",
              "    }\n",
              "</style>\n",
              "<table border=\"1\" class=\"dataframe\">\n",
              "  <thead>\n",
              "    <tr style=\"text-align: right;\">\n",
              "      <th></th>\n",
              "      <th></th>\n",
              "      <th>iyear</th>\n",
              "      <th>imonth</th>\n",
              "      <th>iday</th>\n",
              "      <th>country</th>\n",
              "      <th>region</th>\n",
              "      <th>region_txt</th>\n",
              "      <th>provstate</th>\n",
              "      <th>city</th>\n",
              "      <th>latitude</th>\n",
              "      <th>longitude</th>\n",
              "      <th>attacktype1</th>\n",
              "      <th>targtype1</th>\n",
              "      <th>targtype1_txt</th>\n",
              "      <th>natlty1</th>\n",
              "      <th>natlty1_txt</th>\n",
              "      <th>gname</th>\n",
              "      <th>weaptype1</th>\n",
              "      <th>weaptype1_txt</th>\n",
              "      <th>nkill</th>\n",
              "      <th>propextent</th>\n",
              "      <th>propextent_txt</th>\n",
              "    </tr>\n",
              "    <tr>\n",
              "      <th>country_txt</th>\n",
              "      <th>attacktype1_txt</th>\n",
              "      <th></th>\n",
              "      <th></th>\n",
              "      <th></th>\n",
              "      <th></th>\n",
              "      <th></th>\n",
              "      <th></th>\n",
              "      <th></th>\n",
              "      <th></th>\n",
              "      <th></th>\n",
              "      <th></th>\n",
              "      <th></th>\n",
              "      <th></th>\n",
              "      <th></th>\n",
              "      <th></th>\n",
              "      <th></th>\n",
              "      <th></th>\n",
              "      <th></th>\n",
              "      <th></th>\n",
              "      <th></th>\n",
              "      <th></th>\n",
              "      <th></th>\n",
              "    </tr>\n",
              "  </thead>\n",
              "  <tbody>\n",
              "    <tr>\n",
              "      <th rowspan=\"5\" valign=\"top\">Afghanistan</th>\n",
              "      <th>Armed Assault</th>\n",
              "      <td>1999</td>\n",
              "      <td>11</td>\n",
              "      <td>30</td>\n",
              "      <td>4</td>\n",
              "      <td>6</td>\n",
              "      <td>South Asia</td>\n",
              "      <td>Kabul</td>\n",
              "      <td>Kabul</td>\n",
              "      <td>34.516895</td>\n",
              "      <td>69.147011</td>\n",
              "      <td>2</td>\n",
              "      <td>17</td>\n",
              "      <td>Terrorists/Non-State Militia</td>\n",
              "      <td>4.0</td>\n",
              "      <td>Afghanistan</td>\n",
              "      <td>Unknown</td>\n",
              "      <td>5</td>\n",
              "      <td>Firearms</td>\n",
              "      <td>20.0</td>\n",
              "      <td>4.0</td>\n",
              "      <td>Unknown</td>\n",
              "    </tr>\n",
              "    <tr>\n",
              "      <th>Assassination</th>\n",
              "      <td>2004</td>\n",
              "      <td>7</td>\n",
              "      <td>31</td>\n",
              "      <td>4</td>\n",
              "      <td>6</td>\n",
              "      <td>South Asia</td>\n",
              "      <td>Helmand</td>\n",
              "      <td>Khan Shine</td>\n",
              "      <td>30.550198</td>\n",
              "      <td>63.786060</td>\n",
              "      <td>1</td>\n",
              "      <td>2</td>\n",
              "      <td>Government (General)</td>\n",
              "      <td>4.0</td>\n",
              "      <td>Afghanistan</td>\n",
              "      <td>Taliban</td>\n",
              "      <td>5</td>\n",
              "      <td>Firearms</td>\n",
              "      <td>5.0</td>\n",
              "      <td>3.0</td>\n",
              "      <td>Minor (likely &lt; $1 million)</td>\n",
              "    </tr>\n",
              "    <tr>\n",
              "      <th>Bombing/Explosion</th>\n",
              "      <td>1979</td>\n",
              "      <td>8</td>\n",
              "      <td>27</td>\n",
              "      <td>4</td>\n",
              "      <td>6</td>\n",
              "      <td>South Asia</td>\n",
              "      <td>Ghazni</td>\n",
              "      <td>Ghazni</td>\n",
              "      <td>33.542622</td>\n",
              "      <td>68.415329</td>\n",
              "      <td>3</td>\n",
              "      <td>19</td>\n",
              "      <td>Transportation</td>\n",
              "      <td>4.0</td>\n",
              "      <td>Afghanistan</td>\n",
              "      <td>Muslim Guerrillas</td>\n",
              "      <td>6</td>\n",
              "      <td>Explosives</td>\n",
              "      <td>50.0</td>\n",
              "      <td>3.0</td>\n",
              "      <td>Minor (likely &lt; $1 million)</td>\n",
              "    </tr>\n",
              "    <tr>\n",
              "      <th>Facility/Infrastructure Attack</th>\n",
              "      <td>2001</td>\n",
              "      <td>8</td>\n",
              "      <td>17</td>\n",
              "      <td>4</td>\n",
              "      <td>6</td>\n",
              "      <td>South Asia</td>\n",
              "      <td>Bamyan</td>\n",
              "      <td>Unknown</td>\n",
              "      <td>34.907330</td>\n",
              "      <td>67.189449</td>\n",
              "      <td>7</td>\n",
              "      <td>14</td>\n",
              "      <td>Private Citizens &amp; Property</td>\n",
              "      <td>4.0</td>\n",
              "      <td>Afghanistan</td>\n",
              "      <td>Taliban</td>\n",
              "      <td>8</td>\n",
              "      <td>Incendiary</td>\n",
              "      <td>2.0</td>\n",
              "      <td>3.0</td>\n",
              "      <td>Minor (likely &lt; $1 million)</td>\n",
              "    </tr>\n",
              "    <tr>\n",
              "      <th>Hijacking</th>\n",
              "      <td>2009</td>\n",
              "      <td>1</td>\n",
              "      <td>31</td>\n",
              "      <td>4</td>\n",
              "      <td>6</td>\n",
              "      <td>South Asia</td>\n",
              "      <td>Herat</td>\n",
              "      <td>Gozarah</td>\n",
              "      <td>34.348889</td>\n",
              "      <td>63.177778</td>\n",
              "      <td>4</td>\n",
              "      <td>1</td>\n",
              "      <td>Business</td>\n",
              "      <td>4.0</td>\n",
              "      <td>Afghanistan</td>\n",
              "      <td>Taliban</td>\n",
              "      <td>5</td>\n",
              "      <td>Firearms</td>\n",
              "      <td>0.0</td>\n",
              "      <td>4.0</td>\n",
              "      <td>Unknown</td>\n",
              "    </tr>\n",
              "    <tr>\n",
              "      <th>...</th>\n",
              "      <th>...</th>\n",
              "      <td>...</td>\n",
              "      <td>...</td>\n",
              "      <td>...</td>\n",
              "      <td>...</td>\n",
              "      <td>...</td>\n",
              "      <td>...</td>\n",
              "      <td>...</td>\n",
              "      <td>...</td>\n",
              "      <td>...</td>\n",
              "      <td>...</td>\n",
              "      <td>...</td>\n",
              "      <td>...</td>\n",
              "      <td>...</td>\n",
              "      <td>...</td>\n",
              "      <td>...</td>\n",
              "      <td>...</td>\n",
              "      <td>...</td>\n",
              "      <td>...</td>\n",
              "      <td>...</td>\n",
              "      <td>...</td>\n",
              "      <td>...</td>\n",
              "    </tr>\n",
              "    <tr>\n",
              "      <th rowspan=\"5\" valign=\"top\">Zimbabwe</th>\n",
              "      <th>Bombing/Explosion</th>\n",
              "      <td>1980</td>\n",
              "      <td>4</td>\n",
              "      <td>18</td>\n",
              "      <td>231</td>\n",
              "      <td>11</td>\n",
              "      <td>Sub-Saharan Africa</td>\n",
              "      <td>Salisbury</td>\n",
              "      <td>Salisbury</td>\n",
              "      <td>-17.825166</td>\n",
              "      <td>31.033510</td>\n",
              "      <td>3</td>\n",
              "      <td>14</td>\n",
              "      <td>Private Citizens &amp; Property</td>\n",
              "      <td>403.0</td>\n",
              "      <td>Rhodesia</td>\n",
              "      <td>Unknown</td>\n",
              "      <td>6</td>\n",
              "      <td>Explosives</td>\n",
              "      <td>0.0</td>\n",
              "      <td>4.0</td>\n",
              "      <td>Unknown</td>\n",
              "    </tr>\n",
              "    <tr>\n",
              "      <th>Facility/Infrastructure Attack</th>\n",
              "      <td>2002</td>\n",
              "      <td>2</td>\n",
              "      <td>11</td>\n",
              "      <td>231</td>\n",
              "      <td>11</td>\n",
              "      <td>Sub-Saharan Africa</td>\n",
              "      <td>Bulawayo</td>\n",
              "      <td>Bulawayo</td>\n",
              "      <td>-20.120995</td>\n",
              "      <td>28.627290</td>\n",
              "      <td>7</td>\n",
              "      <td>10</td>\n",
              "      <td>Journalists &amp; Media</td>\n",
              "      <td>231.0</td>\n",
              "      <td>Zimbabwe</td>\n",
              "      <td>Unknown</td>\n",
              "      <td>8</td>\n",
              "      <td>Incendiary</td>\n",
              "      <td>0.0</td>\n",
              "      <td>4.0</td>\n",
              "      <td>Unknown</td>\n",
              "    </tr>\n",
              "    <tr>\n",
              "      <th>Hostage Taking (Barricade Incident)</th>\n",
              "      <td>2017</td>\n",
              "      <td>7</td>\n",
              "      <td>19</td>\n",
              "      <td>231</td>\n",
              "      <td>11</td>\n",
              "      <td>Sub-Saharan Africa</td>\n",
              "      <td>Harare</td>\n",
              "      <td>Kuwadzana</td>\n",
              "      <td>-17.833295</td>\n",
              "      <td>30.933271</td>\n",
              "      <td>5</td>\n",
              "      <td>2</td>\n",
              "      <td>Government (General)</td>\n",
              "      <td>231.0</td>\n",
              "      <td>Zimbabwe</td>\n",
              "      <td>Zimbabwe African Nationalist Union (ZANU)</td>\n",
              "      <td>5</td>\n",
              "      <td>Firearms</td>\n",
              "      <td>0.0</td>\n",
              "      <td>3.0</td>\n",
              "      <td>Minor (likely &lt; $1 million)</td>\n",
              "    </tr>\n",
              "    <tr>\n",
              "      <th>Hostage Taking (Kidnapping)</th>\n",
              "      <td>1980</td>\n",
              "      <td>11</td>\n",
              "      <td>16</td>\n",
              "      <td>231</td>\n",
              "      <td>11</td>\n",
              "      <td>Sub-Saharan Africa</td>\n",
              "      <td>Mashonaland East</td>\n",
              "      <td>Mtoko</td>\n",
              "      <td>-17.408632</td>\n",
              "      <td>32.225680</td>\n",
              "      <td>6</td>\n",
              "      <td>4</td>\n",
              "      <td>Military</td>\n",
              "      <td>231.0</td>\n",
              "      <td>Zimbabwe</td>\n",
              "      <td>Zimbabwe African Nationalist Union (ZANU)</td>\n",
              "      <td>13</td>\n",
              "      <td>Unknown</td>\n",
              "      <td>1.0</td>\n",
              "      <td>4.0</td>\n",
              "      <td>Unknown</td>\n",
              "    </tr>\n",
              "    <tr>\n",
              "      <th>Unknown</th>\n",
              "      <td>2001</td>\n",
              "      <td>6</td>\n",
              "      <td>26</td>\n",
              "      <td>231</td>\n",
              "      <td>11</td>\n",
              "      <td>Sub-Saharan Africa</td>\n",
              "      <td>Mashonaland Central</td>\n",
              "      <td>Shamva</td>\n",
              "      <td>-17.294380</td>\n",
              "      <td>31.641460</td>\n",
              "      <td>9</td>\n",
              "      <td>14</td>\n",
              "      <td>Private Citizens &amp; Property</td>\n",
              "      <td>231.0</td>\n",
              "      <td>Zimbabwe</td>\n",
              "      <td>Zimbabwe African Nationalist Union (ZANU)</td>\n",
              "      <td>13</td>\n",
              "      <td>Unknown</td>\n",
              "      <td>0.0</td>\n",
              "      <td>3.0</td>\n",
              "      <td>Minor (likely &lt; $1 million)</td>\n",
              "    </tr>\n",
              "  </tbody>\n",
              "</table>\n",
              "<p>846 rows × 21 columns</p>\n",
              "</div>"
            ],
            "text/plain": [
              "                                                 iyear  ...               propextent_txt\n",
              "country_txt attacktype1_txt                             ...                             \n",
              "Afghanistan Armed Assault                         1999  ...                      Unknown\n",
              "            Assassination                         2004  ...  Minor (likely < $1 million)\n",
              "            Bombing/Explosion                     1979  ...  Minor (likely < $1 million)\n",
              "            Facility/Infrastructure Attack        2001  ...  Minor (likely < $1 million)\n",
              "            Hijacking                             2009  ...                      Unknown\n",
              "...                                                ...  ...                          ...\n",
              "Zimbabwe    Bombing/Explosion                     1980  ...                      Unknown\n",
              "            Facility/Infrastructure Attack        2002  ...                      Unknown\n",
              "            Hostage Taking (Barricade Incident)   2017  ...  Minor (likely < $1 million)\n",
              "            Hostage Taking (Kidnapping)           1980  ...                      Unknown\n",
              "            Unknown                               2001  ...  Minor (likely < $1 million)\n",
              "\n",
              "[846 rows x 21 columns]"
            ]
          },
          "metadata": {
            "tags": []
          },
          "execution_count": 36
        }
      ]
    },
    {
      "cell_type": "code",
      "metadata": {
        "id": "wVks7Ou61pU6",
        "outputId": "54d00cfa-e45e-47f5-c3ef-48af2b5e4648",
        "colab": {
          "base_uri": "https://localhost:8080/",
          "height": 538
        }
      },
      "source": [
        "df.country_txt.value_counts().head(30)"
      ],
      "execution_count": 87,
      "outputs": [
        {
          "output_type": "execute_result",
          "data": {
            "text/plain": [
              "Iraq                        9284\n",
              "Pakistan                    6293\n",
              "Afghanistan                 5165\n",
              "India                       3708\n",
              "El Salvador                 2769\n",
              "Colombia                    2590\n",
              "Philippines                 2237\n",
              "Nigeria                     2183\n",
              "Thailand                    1821\n",
              "United States               1655\n",
              "Peru                        1526\n",
              "Somalia                     1517\n",
              "Spain                       1293\n",
              "Turkey                      1200\n",
              "Yemen                       1165\n",
              "United Kingdom              1150\n",
              "France                       979\n",
              "Russia                       961\n",
              "Nicaragua                    939\n",
              "Syria                        876\n",
              "Chile                        857\n",
              "Libya                        836\n",
              "Italy                        777\n",
              "Israel                       725\n",
              "Guatemala                    689\n",
              "Egypt                        682\n",
              "Algeria                      673\n",
              "Greece                       671\n",
              "Lebanon                      664\n",
              "West Bank and Gaza Strip     626\n",
              "Name: country_txt, dtype: int64"
            ]
          },
          "metadata": {
            "tags": []
          },
          "execution_count": 87
        }
      ]
    },
    {
      "cell_type": "code",
      "metadata": {
        "id": "4qE8guuH13BV"
      },
      "source": [
        ""
      ],
      "execution_count": null,
      "outputs": []
    }
  ]
}